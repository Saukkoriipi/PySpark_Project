{
 "cells": [
  {
   "cell_type": "code",
   "execution_count": 25,
   "metadata": {},
   "outputs": [],
   "source": [
    "import pandas as pd\n",
    "from numpy import median"
   ]
  },
  {
   "cell_type": "code",
   "execution_count": 26,
   "metadata": {},
   "outputs": [
    {
     "data": {
      "text/html": [
       "<div>\n",
       "<style scoped>\n",
       "    .dataframe tbody tr th:only-of-type {\n",
       "        vertical-align: middle;\n",
       "    }\n",
       "\n",
       "    .dataframe tbody tr th {\n",
       "        vertical-align: top;\n",
       "    }\n",
       "\n",
       "    .dataframe thead th {\n",
       "        text-align: right;\n",
       "    }\n",
       "</style>\n",
       "<table border=\"1\" class=\"dataframe\">\n",
       "  <thead>\n",
       "    <tr style=\"text-align: right;\">\n",
       "      <th></th>\n",
       "      <th>0</th>\n",
       "      <th>1</th>\n",
       "      <th>2</th>\n",
       "      <th>3</th>\n",
       "      <th>4</th>\n",
       "      <th>5</th>\n",
       "      <th>6</th>\n",
       "      <th>7</th>\n",
       "      <th>8</th>\n",
       "      <th>9</th>\n",
       "      <th>...</th>\n",
       "      <th>990</th>\n",
       "      <th>991</th>\n",
       "      <th>992</th>\n",
       "      <th>993</th>\n",
       "      <th>994</th>\n",
       "      <th>995</th>\n",
       "      <th>996</th>\n",
       "      <th>997</th>\n",
       "      <th>998</th>\n",
       "      <th>999</th>\n",
       "    </tr>\n",
       "  </thead>\n",
       "  <tbody>\n",
       "    <tr>\n",
       "      <th>0</th>\n",
       "      <td>1.277340e+11</td>\n",
       "      <td>1.270403e+11</td>\n",
       "      <td>1.261336e+11</td>\n",
       "      <td>1.276232e+11</td>\n",
       "      <td>1.277263e+11</td>\n",
       "      <td>1.262043e+11</td>\n",
       "      <td>1.305915e+11</td>\n",
       "      <td>1.263109e+11</td>\n",
       "      <td>1.273013e+11</td>\n",
       "      <td>1.240552e+11</td>\n",
       "      <td>...</td>\n",
       "      <td>1.273313e+11</td>\n",
       "      <td>1.309680e+11</td>\n",
       "      <td>1.288276e+11</td>\n",
       "      <td>1.265437e+11</td>\n",
       "      <td>1.259945e+11</td>\n",
       "      <td>1.266185e+11</td>\n",
       "      <td>1.279121e+11</td>\n",
       "      <td>1.272910e+11</td>\n",
       "      <td>1.232555e+11</td>\n",
       "      <td>1.258357e+11</td>\n",
       "    </tr>\n",
       "  </tbody>\n",
       "</table>\n",
       "<p>1 rows × 1000 columns</p>\n",
       "</div>"
      ],
      "text/plain": [
       "            0             1             2             3             4    \\\n",
       "0  1.277340e+11  1.270403e+11  1.261336e+11  1.276232e+11  1.277263e+11   \n",
       "\n",
       "            5             6             7             8             9    ...  \\\n",
       "0  1.262043e+11  1.305915e+11  1.263109e+11  1.273013e+11  1.240552e+11  ...   \n",
       "\n",
       "            990           991           992           993           994  \\\n",
       "0  1.273313e+11  1.309680e+11  1.288276e+11  1.265437e+11  1.259945e+11   \n",
       "\n",
       "            995           996           997           998           999  \n",
       "0  1.266185e+11  1.279121e+11  1.272910e+11  1.232555e+11  1.258357e+11  \n",
       "\n",
       "[1 rows x 1000 columns]"
      ]
     },
     "execution_count": 26,
     "metadata": {},
     "output_type": "execute_result"
    }
   ],
   "source": [
    "# Read the data\n",
    "A = pd.read_csv(\"data-2-sample.txt\", sep=\" \", header=None)\n",
    "\n",
    "# Drop last column\n",
    "A = A.iloc[:, :-1]\n",
    "\n",
    "# Find A transpose\n",
    "AT = A.T\n",
    "\n",
    "# Calculate AAT\n",
    "AAT = A.dot(AT)\n",
    "\n",
    "# Calculate AATA\n",
    "AATA = AAT.dot(A)\n",
    "\n",
    "# Show first row\n",
    "AATA.head(1)"
   ]
  },
  {
   "cell_type": "code",
   "execution_count": null,
   "metadata": {},
   "outputs": [],
   "source": []
  }
 ],
 "metadata": {
  "kernelspec": {
   "display_name": "Python 3",
   "language": "python",
   "name": "python3"
  },
  "language_info": {
   "codemirror_mode": {
    "name": "ipython",
    "version": 3
   },
   "file_extension": ".py",
   "mimetype": "text/x-python",
   "name": "python",
   "nbconvert_exporter": "python",
   "pygments_lexer": "ipython3",
   "version": "3.8.3"
  }
 },
 "nbformat": 4,
 "nbformat_minor": 4
}
